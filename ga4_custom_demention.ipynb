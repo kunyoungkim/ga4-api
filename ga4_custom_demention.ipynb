{
 "cells": [
  {
   "cell_type": "markdown",
   "metadata": {},
   "source": [
    "#### 라이브러리 및 환경변수 세팅"
   ]
  },
  {
   "cell_type": "code",
   "execution_count": 1,
   "metadata": {},
   "outputs": [],
   "source": [
    "import numpy as np\n",
    "import pandas as pd\n",
    "import os\n",
    "from google.analytics.data_v1beta import BetaAnalyticsDataClient \n",
    "from google.analytics.data_v1beta.types import (\n",
    "    RunReportRequest, \n",
    "    Dimension, \n",
    "    Metric,\n",
    "    OrderBy, \n",
    "    DateRange, \n",
    ")"
   ]
  },
  {
   "cell_type": "code",
   "execution_count": null,
   "metadata": {},
   "outputs": [],
   "source": [
    "os.environ[\"GOOGLE_APPLICATION_CREDENTIALS\"] = 'GCP에서_생성한_json_파일.json'\n",
    "property_id = 'GA4_속성_ID'\n",
    "client = BetaAnalyticsDataClient()"
   ]
  },
  {
   "cell_type": "markdown",
   "metadata": {},
   "source": [
    "### 맞춤 측정기준 만들기\n",
    "GTM에서 심은 이벤트가 점점 많아지다보면 이벤트 명을 최대한 줄이고,<br>\n",
    "세세한 부분은 매개변수로 구분하는게 훨씬 이벤트를 관리하기에 효율적인걸 알 수 있다.<br>\n",
    "이렇게 세팅한 매개변수를 GA4 보고서에서 측정기준으로 설정해서 보려면 맞춤 측정기준을 만들어야한다.<br>\n",
    "맞춤 측정기준을 세팅하는 방법은 다음과 같다.\n",
    "\n",
    "- GTM에서 이벤트에 새로운 매개변수 세팅\n",
    "- GA4 [데이터 표시 > 맞춤 정의]에서 '맞춤 측정기준 만들기' 클릭 후, 세팅한 매개변수 추가\n",
    "- 1~2일 후 부터 측정 기준으로 사용.\n",
    "- [GA4 API에서 측정기준](https://developers.google.com/analytics/devguides/reporting/data/v1/api-schema?hl=ko#custom_dimensions)으로 \"customEvent:parameter_name\"로 설정하여 데이터 불러오기"
   ]
  },
  {
   "cell_type": "code",
   "execution_count": 12,
   "metadata": {},
   "outputs": [],
   "source": [
    "request = RunReportRequest(\n",
    "        property='properties/'+property_id,\n",
    "        dimensions=[Dimension(name=\"customEvent:all_event\")],\n",
    "        metrics=[Metric(name=\"active1DayUsers\")],\n",
    "        order_bys = [OrderBy(dimension = {'dimension_name': 'customEvent:all_event'}, desc=True)], \n",
    "        date_ranges=[DateRange(start_date=\"2024-01-01\", end_date=\"2024-02-01\")],\n",
    "    )"
   ]
  },
  {
   "cell_type": "code",
   "execution_count": 42,
   "metadata": {},
   "outputs": [
    {
     "data": {
      "text/plain": [
       "0    mweb_back_btn\n",
       "1          43595.0\n",
       "Name: 135, dtype: object"
      ]
     },
     "execution_count": 42,
     "metadata": {},
     "output_type": "execute_result"
    }
   ],
   "source": [
    "response = client.run_report(request)\n",
    "data = [] \n",
    "for row in response.rows:\n",
    "    row_data = {dim.name: row.dimension_values[i].value for i, dim in enumerate(response.dimension_headers)}\n",
    "    row_data.update({metric.name: float(row.metric_values[i].value) for i, metric in enumerate(response.metric_headers)})\n",
    "    data.append(row_data)\n",
    "df = pd.DataFrame(data)\n",
    "df.loc[135,:].reset_index(drop=True)"
   ]
  }
 ],
 "metadata": {
  "kernelspec": {
   "display_name": "venv",
   "language": "python",
   "name": "python3"
  },
  "language_info": {
   "codemirror_mode": {
    "name": "ipython",
    "version": 3
   },
   "file_extension": ".py",
   "mimetype": "text/x-python",
   "name": "python",
   "nbconvert_exporter": "python",
   "pygments_lexer": "ipython3",
   "version": "3.9.19"
  }
 },
 "nbformat": 4,
 "nbformat_minor": 2
}
