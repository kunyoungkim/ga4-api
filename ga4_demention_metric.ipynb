{
 "cells": [
  {
   "cell_type": "markdown",
   "metadata": {},
   "source": [
    "#### 라이브러리 및 환경변수 세팅"
   ]
  },
  {
   "cell_type": "code",
   "execution_count": 2,
   "metadata": {},
   "outputs": [],
   "source": [
    "import numpy as np\n",
    "import pandas as pd\n",
    "import os\n",
    "from google.analytics.data_v1beta import BetaAnalyticsDataClient \n",
    "from google.analytics.data_v1beta.types import (\n",
    "    RunReportRequest, \n",
    "    Dimension, \n",
    "    Metric,\n",
    "    OrderBy, \n",
    "    DateRange, \n",
    ")"
   ]
  },
  {
   "cell_type": "code",
   "execution_count": null,
   "metadata": {},
   "outputs": [],
   "source": [
    "# os 모듈을 사용하여 환경 변수를 설정할 수 있습니다.\n",
    "os.environ[\"GOOGLE_APPLICATION_CREDENTIALS\"] = 'GCP에서_생성한_json_파일.json'\n",
    "# Google Analytics 4 속성 ID 설정\n",
    "property_id = 'GA4_속성_ID'\n",
    "# Google Analytics Data API 클라이언트 초기화. 이 클라이언트를 통해 API에 요청을 보내고 데이터를 받을 수 있습니다.\n",
    "client = BetaAnalyticsDataClient()"
   ]
  },
  {
   "cell_type": "markdown",
   "metadata": {},
   "source": [
    "### 측정기준, 측정항목 세팅\n",
    "- 측정기준: GA4 측정기준은 이벤트이름, 페이지위치, 플랫폼 등 GA4에서 제공하는 Columns같은 개념이다.<br>\n",
    "실제로 빅쿼리에서는 측정기준이 Columns로 되어있다.\n",
    "\n",
    "- 측정항목: GA4 측정항목은 액티브유저수, 이벤트수 등 GA4에서 제공하는 집계 함수같은 개념이다.<br>\n",
    "raw 데이터를 groupby하여 .sum(), .mean()과 같은 함수로 집계를 하는 것처럼 GA4도 측정항목을 통해 집계를 할 수 있다.\n",
    "\n",
    "사용할 수 있는 측정기준, 측정항목 값은 [GA4 API 공식 문서](https://developers.google.com/analytics/devguides/reporting/data/v1/api-schema?hl=ko)에서 찾을 수 있다.<br>\n",
    "해당 문서에 나와있는 API 이름을 모두 사용할 수 있다.<br>\n",
    "\n",
    "예시로 일별 DAU를 출력해보자. 이 경우엔 측정기준을 'date'로, 측정항목을 'active1DayUsers'로 설정하면 된다."
   ]
  },
  {
   "cell_type": "code",
   "execution_count": 6,
   "metadata": {},
   "outputs": [],
   "source": [
    "request = RunReportRequest(\n",
    "        property='properties/'+property_id,\n",
    "        dimensions=[Dimension(name=\"date\")],\n",
    "        metrics=[Metric(name=\"active1DayUsers\")],\n",
    "        order_bys = [OrderBy(dimension = {'dimension_name': 'date'})], \n",
    "        date_ranges=[DateRange(start_date=\"2024-01-01\", end_date=\"today\")],\n",
    "    )"
   ]
  },
  {
   "cell_type": "code",
   "execution_count": 7,
   "metadata": {},
   "outputs": [],
   "source": [
    "response = client.run_report(request)"
   ]
  },
  {
   "cell_type": "code",
   "execution_count": 8,
   "metadata": {},
   "outputs": [
    {
     "data": {
      "text/html": [
       "<div>\n",
       "<style scoped>\n",
       "    .dataframe tbody tr th:only-of-type {\n",
       "        vertical-align: middle;\n",
       "    }\n",
       "\n",
       "    .dataframe tbody tr th {\n",
       "        vertical-align: top;\n",
       "    }\n",
       "\n",
       "    .dataframe thead th {\n",
       "        text-align: right;\n",
       "    }\n",
       "</style>\n",
       "<table border=\"1\" class=\"dataframe\">\n",
       "  <thead>\n",
       "    <tr style=\"text-align: right;\">\n",
       "      <th></th>\n",
       "      <th>date</th>\n",
       "      <th>active1DayUsers</th>\n",
       "    </tr>\n",
       "  </thead>\n",
       "  <tbody>\n",
       "    <tr>\n",
       "      <th>0</th>\n",
       "      <td>20240101</td>\n",
       "      <td>63669.0</td>\n",
       "    </tr>\n",
       "  </tbody>\n",
       "</table>\n",
       "</div>"
      ],
      "text/plain": [
       "       date  active1DayUsers\n",
       "0  20240101          63669.0"
      ]
     },
     "execution_count": 8,
     "metadata": {},
     "output_type": "execute_result"
    }
   ],
   "source": [
    "data = [] \n",
    "\n",
    "for row in response.rows:\n",
    "    row_data = {dim.name: row.dimension_values[i].value for i, dim in enumerate(response.dimension_headers)}\n",
    "    row_data.update({metric.name: float(row.metric_values[i].value) for i, metric in enumerate(response.metric_headers)})\n",
    "    data.append(row_data)\n",
    "df = pd.DataFrame(data)\n",
    "df.head(1)"
   ]
  }
 ],
 "metadata": {
  "kernelspec": {
   "display_name": "venv",
   "language": "python",
   "name": "python3"
  },
  "language_info": {
   "codemirror_mode": {
    "name": "ipython",
    "version": 3
   },
   "file_extension": ".py",
   "mimetype": "text/x-python",
   "name": "python",
   "nbconvert_exporter": "python",
   "pygments_lexer": "ipython3",
   "version": "3.9.19"
  }
 },
 "nbformat": 4,
 "nbformat_minor": 2
}
